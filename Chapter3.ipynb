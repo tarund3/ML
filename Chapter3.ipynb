{
 "cells": [
  {
   "cell_type": "code",
   "execution_count": 2,
   "metadata": {},
   "outputs": [
    {
     "name": "stdout",
     "output_type": "stream",
     "text": [
      "Daily Returns Vector: [ 0.02  -0.01   0.015  0.03  -0.005]\n",
      "Returns Matrix:\n",
      " [[ 0.02  -0.01   0.015]\n",
      " [ 0.03   0.01  -0.02 ]\n",
      " [ 0.015  0.005 -0.01 ]\n",
      " [ 0.03  -0.005  0.02 ]\n",
      " [-0.01   0.02   0.01 ]]\n"
     ]
    }
   ],
   "source": [
    "import numpy as np\n",
    "\n",
    "# Create a vector representing daily returns of a stock\n",
    "daily_returns = np.array([0.02, -0.01, 0.015, 0.03, -0.005])\n",
    "\n",
    "# Create a matrix representing returns of multiple stocks over 5 days\n",
    "returns_matrix = np.array([\n",
    "    [0.02, -0.01, 0.015],\n",
    "    [0.03, 0.01, -0.02],\n",
    "    [0.015, 0.005, -0.01],\n",
    "    [0.03, -0.005, 0.02],\n",
    "    [-0.01, 0.02, 0.01]\n",
    "])\n",
    "\n",
    "print(\"Daily Returns Vector:\", daily_returns)\n",
    "print(\"Returns Matrix:\\n\", returns_matrix)\n"
   ]
  },
  {
   "cell_type": "code",
   "execution_count": 3,
   "metadata": {},
   "outputs": [
    {
     "name": "stdout",
     "output_type": "stream",
     "text": [
      "Mean Returns for Each Stock: [0.017 0.004 0.003]\n",
      "Portfolio Returns over 5 Days: [0.00833333 0.00666667 0.00333333 0.015      0.00666667]\n"
     ]
    }
   ],
   "source": [
    "# Calculate the mean return for each stock (column-wise mean)\n",
    "mean_returns = returns_matrix.mean(axis=0) # axis = 0 calculates mean along columns\n",
    "print(\"Mean Returns for Each Stock:\", mean_returns)\n",
    "\n",
    "# Dot product: calculate portfolio returns assuming equal weights for each stock\n",
    "weights = np.array([1/3, 1/3, 1/3])  # Equal weighting\n",
    "# Dot product of weights and mean returns gives 1D array with each elm representing portfolio returns on a specific day\n",
    "portfolio_return = np.dot(returns_matrix, weights)\n",
    "print(\"Portfolio Returns over 5 Days:\", portfolio_return)\n"
   ]
  },
  {
   "cell_type": "code",
   "execution_count": 4,
   "metadata": {},
   "outputs": [
    {
     "name": "stdout",
     "output_type": "stream",
     "text": [
      "Expected Daily Return: 0.00039963308319122196\n",
      "Volatility (Standard Deviation): 0.02057809660917751\n"
     ]
    }
   ],
   "source": [
    "import scipy.stats as stats\n",
    "\n",
    "# Simulate daily returns for a stock using a normal distribution\n",
    "# loc - mean of distribution set to 0.1%\n",
    "# scale - 0.02 - 2% is typical volatility\n",
    "# size - 252 days of trading\n",
    "# generates synthetic data with normal distribution\n",
    "daily_returns = np.random.normal(loc=0.001, scale=0.02, size=252)  # 252 trading days\n",
    "\n",
    "# Calculate expected return and standard deviation\n",
    "expected_return = np.mean(daily_returns)\n",
    "volatility = np.std(daily_returns)\n",
    "\n",
    "print(\"Expected Daily Return:\", expected_return)\n",
    "print(\"Volatility (Standard Deviation):\", volatility)\n"
   ]
  },
  {
   "cell_type": "code",
   "execution_count": 5,
   "metadata": {},
   "outputs": [
    {
     "name": "stdout",
     "output_type": "stream",
     "text": [
      "T-statistic: 0.3076756257812521\n",
      "P-value: 0.7585843154441377\n",
      "Fail to reject null hypothesis: Returns are not significantly different from zero.\n"
     ]
    }
   ],
   "source": [
    "# Perform a t-test to check if the average return is significantly different from zero\n",
    "t_stat, p_value = stats.ttest_1samp(daily_returns, 0)\n",
    "print(\"T-statistic:\", t_stat)\n",
    "print(\"P-value:\", p_value)\n",
    "\n",
    "# Interpret result\n",
    "if p_value < 0.05:\n",
    "    print(\"Reject null hypothesis: Returns are significantly different from zero.\")\n",
    "else:\n",
    "    print(\"Fail to reject null hypothesis: Returns are not significantly different from zero.\")\n"
   ]
  },
  {
   "cell_type": "code",
   "execution_count": 6,
   "metadata": {},
   "outputs": [
    {
     "name": "stdout",
     "output_type": "stream",
     "text": [
      "Partial derivative with respect to w1: 0.1 - 0.1*w1\n",
      "Partial derivative with respect to w2: 0.15 - 0.2*w2\n"
     ]
    }
   ],
   "source": [
    "import sympy as sp\n",
    "\n",
    "# Define a function for portfolio profit (hypothetical)\n",
    "w1, w2 = sp.symbols('w1 w2')\n",
    "profit = 0.1 * w1 + 0.15 * w2 - 0.05 * w1**2 - 0.1 * w2**2\n",
    "\n",
    "# Calculate partial derivatives (gradients)\n",
    "profit_w1 = sp.diff(profit, w1)\n",
    "profit_w2 = sp.diff(profit, w2)\n",
    "\n",
    "print(\"Partial derivative with respect to w1:\", profit_w1)\n",
    "print(\"Partial derivative with respect to w2:\", profit_w2)\n"
   ]
  },
  {
   "cell_type": "code",
   "execution_count": 7,
   "metadata": {},
   "outputs": [
    {
     "name": "stdout",
     "output_type": "stream",
     "text": [
      "Iteration 1: w1 = 0.505000000000000, w2 = 0.505000000000000\n",
      "Iteration 2: w1 = 0.509950000000000, w2 = 0.509900000000000\n",
      "Iteration 3: w1 = 0.514850500000000, w2 = 0.514702000000000\n",
      "Iteration 4: w1 = 0.519701995000000, w2 = 0.519407960000000\n",
      "Iteration 5: w1 = 0.524504975050000, w2 = 0.524019800800000\n",
      "Iteration 6: w1 = 0.529259925299500, w2 = 0.528539404784000\n",
      "Iteration 7: w1 = 0.533967326046505, w2 = 0.532968616688320\n",
      "Iteration 8: w1 = 0.538627652786040, w2 = 0.537309244354554\n",
      "Iteration 9: w1 = 0.543241376258180, w2 = 0.541563059467462\n",
      "Iteration 10: w1 = 0.547808962495598, w2 = 0.545731798278113\n"
     ]
    }
   ],
   "source": [
    "# Initialize weights\n",
    "w1_val, w2_val = 0.5, 0.5\n",
    "learning_rate = 0.1\n",
    "\n",
    "for i in range(10):\n",
    "    # Compute gradients\n",
    "    grad_w1 = profit_w1.subs({w1: w1_val, w2: w2_val})\n",
    "    grad_w2 = profit_w2.subs({w1: w1_val, w2: w2_val})\n",
    "\n",
    "    # Update weights\n",
    "    w1_val += learning_rate * grad_w1\n",
    "    w2_val += learning_rate * grad_w2\n",
    "\n",
    "    print(f\"Iteration {i+1}: w1 = {w1_val}, w2 = {w2_val}\")\n"
   ]
  },
  {
   "cell_type": "code",
   "execution_count": 8,
   "metadata": {},
   "outputs": [
    {
     "name": "stderr",
     "output_type": "stream",
     "text": [
      "[*********************100%***********************]  3 of 3 completed"
     ]
    },
    {
     "name": "stdout",
     "output_type": "stream",
     "text": [
      "Ticker                           AAPL      GOOGL        MSFT\n",
      "Date                                                        \n",
      "2023-01-03 00:00:00+00:00  125.070000  89.120003  239.580002\n",
      "2023-01-04 00:00:00+00:00  126.360001  88.080002  229.100006\n",
      "2023-01-05 00:00:00+00:00  125.019997  86.199997  222.309998\n",
      "2023-01-06 00:00:00+00:00  129.619995  87.339996  224.929993\n",
      "2023-01-09 00:00:00+00:00  130.149994  88.019997  227.119995\n"
     ]
    },
    {
     "name": "stderr",
     "output_type": "stream",
     "text": [
      "\n"
     ]
    }
   ],
   "source": [
    "import yfinance as yf\n",
    "import numpy as np\n",
    "import pandas as pd\n",
    "\n",
    "# Fetch daily closing prices for multiple stocks\n",
    "tickers = [\"AAPL\", \"MSFT\", \"GOOGL\"]\n",
    "stock_data = yf.download(tickers, start=\"2023-01-01\", end=\"2023-12-31\")['Close']\n",
    "print(stock_data.head())\n"
   ]
  },
  {
   "cell_type": "code",
   "execution_count": 9,
   "metadata": {},
   "outputs": [
    {
     "name": "stdout",
     "output_type": "stream",
     "text": [
      "Daily Returns:\n",
      " Ticker                         AAPL     GOOGL      MSFT\n",
      "Date                                                   \n",
      "2023-01-04 00:00:00+00:00  0.010314 -0.011670 -0.043743\n",
      "2023-01-05 00:00:00+00:00 -0.010605 -0.021344 -0.029638\n",
      "2023-01-06 00:00:00+00:00  0.036794  0.013225  0.011785\n",
      "2023-01-09 00:00:00+00:00  0.004089  0.007786  0.009736\n",
      "2023-01-10 00:00:00+00:00  0.004456  0.004544  0.007617\n"
     ]
    }
   ],
   "source": [
    "# Calculate daily returns for each stock\n",
    "daily_returns = stock_data.pct_change().dropna()\n",
    "print(\"Daily Returns:\\n\", daily_returns.head())\n"
   ]
  },
  {
   "cell_type": "code",
   "execution_count": 10,
   "metadata": {},
   "outputs": [
    {
     "name": "stdout",
     "output_type": "stream",
     "text": [
      "Portfolio Daily Returns:\n",
      " Date\n",
      "2023-01-04 00:00:00+00:00   -0.015033\n",
      "2023-01-05 00:00:00+00:00   -0.020529\n",
      "2023-01-06 00:00:00+00:00    0.020601\n",
      "2023-01-09 00:00:00+00:00    0.007204\n",
      "2023-01-10 00:00:00+00:00    0.005539\n",
      "dtype: float64\n"
     ]
    }
   ],
   "source": [
    "# Define equal weights for each stock in the portfolio\n",
    "weights = np.array([1/3, 1/3, 1/3])\n",
    "\n",
    "# Calculate portfolio returns using dot product\n",
    "portfolio_returns = daily_returns.dot(weights)\n",
    "print(\"Portfolio Daily Returns:\\n\", portfolio_returns.head())\n"
   ]
  },
  {
   "cell_type": "code",
   "execution_count": 11,
   "metadata": {},
   "outputs": [
    {
     "name": "stdout",
     "output_type": "stream",
     "text": [
      "Correlation Matrix:\n",
      " Ticker      AAPL     GOOGL      MSFT\n",
      "Ticker                              \n",
      "AAPL    1.000000  0.528196  0.547336\n",
      "GOOGL   0.528196  1.000000  0.508790\n",
      "MSFT    0.547336  0.508790  1.000000\n",
      "Covariance Matrix:\n",
      " Ticker      AAPL     GOOGL      MSFT\n",
      "Ticker                              \n",
      "AAPL    0.000158  0.000127  0.000109\n",
      "GOOGL   0.000127  0.000367  0.000154\n",
      "MSFT    0.000109  0.000154  0.000251\n"
     ]
    }
   ],
   "source": [
    "# Calculate correlation matrix for the daily returns of each stock\n",
    "# The correlation coefficient is a measure of the linear relationship between two variables (in this case, the returns of two stocks). It ranges from -1 to 1:\n",
    "# 1 means a perfect positive correlation (they move exactly in the same direction).\n",
    "# -1 means a perfect negative correlation (they move in exactly opposite directions).\n",
    "# 0 means no correlation (their movements are not related).\n",
    "correlation_matrix = daily_returns.corr()\n",
    "print(\"Correlation Matrix:\\n\", correlation_matrix)\n",
    "\n",
    "# Calculate covariance matrix\n",
    "# Covariance measures how two variables change together. Unlike correlation, it is not normalized and depends on the units of the variables:\n",
    "# A positive covariance indicates that the returns of two stocks tend to move in the same direction.\n",
    "# A negative covariance indicates that the returns of two stocks move in opposite directions.\n",
    "# A zero covariance suggests no relationship in their movements.\n",
    "covariance_matrix = daily_returns.cov()\n",
    "print(\"Covariance Matrix:\\n\", covariance_matrix)\n"
   ]
  },
  {
   "cell_type": "code",
   "execution_count": 12,
   "metadata": {},
   "outputs": [
    {
     "name": "stdout",
     "output_type": "stream",
     "text": [
      "AAPL Return Statistics:\n",
      "Mean: 0.0018124480592667167\n",
      "Volatility (Standard Deviation): 0.012565588337602261\n",
      "Skewness: 0.01305411665456395\n",
      "Kurtosis: 1.4318522846810735\n"
     ]
    }
   ],
   "source": [
    "# Calculate statistical summaries for AAPL returns\n",
    "aapl_returns = daily_returns['AAPL']\n",
    "\n",
    "print(\"AAPL Return Statistics:\")\n",
    "print(\"Mean:\", aapl_returns.mean())\n",
    "print(\"Volatility (Standard Deviation):\", aapl_returns.std())\n",
    "print(\"Skewness:\", aapl_returns.skew())\n",
    "print(\"Kurtosis:\", aapl_returns.kurt()) \n",
    "# Kurtosis is a statistical measure that describes the shape of a distribution's \n",
    "# tails in relation to its overall shape. Specifically, it helps to determine how much \n",
    "# of a distribution's variance is due to extreme values or outliers. Kurtosis provides insight\n",
    "# into the \"tailedness\" of the data, which is important in finance for understanding the likelihood of extreme returns.\n"
   ]
  },
  {
   "cell_type": "code",
   "execution_count": 13,
   "metadata": {},
   "outputs": [
    {
     "name": "stdout",
     "output_type": "stream",
     "text": [
      "T-statistic: 2.27605323381091\n",
      "P-value: 0.023696019651616464\n",
      "Reject null hypothesis: Returns are significantly different from zero.\n"
     ]
    }
   ],
   "source": [
    "from scipy import stats\n",
    "\n",
    "# Perform a t-test to determine if the average daily return of AAPL is significantly different from zero\n",
    "t_stat, p_value = stats.ttest_1samp(aapl_returns, 0)\n",
    "print(\"T-statistic:\", t_stat)\n",
    "print(\"P-value:\", p_value)\n",
    "\n",
    "if p_value < 0.05:\n",
    "    print(\"Reject null hypothesis: Returns are significantly different from zero.\")\n",
    "else:\n",
    "    print(\"Fail to reject null hypothesis: Returns are not significantly different from zero.\")\n"
   ]
  },
  {
   "cell_type": "code",
   "execution_count": 14,
   "metadata": {},
   "outputs": [],
   "source": [
    "# Define the function to calculate the Sharpe ratio\n",
    "# Higher Sharpe Ratio: Indicates a better risk-adjusted return. It suggests that the investment generates higher returns for each unit of risk, which is generally desirable for investors.\n",
    "# Lower Sharpe Ratio: Indicates a less favorable risk-adjusted return, meaning the investment may either generate lower returns or involve higher risk relative to its return.\n",
    "\n",
    "# Parameters:\n",
    "# weights: A vector (array) containing the weights of each asset in the portfolio. These weights indicate the proportion of the total investment allocated to each asset.\n",
    "# returns: A DataFrame of historical returns for each asset.\n",
    "# risk_free_rate: The risk-free rate of return, typically set to 0 if unspecified. This is the rate of return you would expect from a theoretically \"risk-free\" investment, like U.S. Treasury bonds.\n",
    "\n",
    "def sharpe_ratio(weights, returns, risk_free_rate=0.0):\n",
    "    portfolio_return = np.dot(weights, returns.mean()) * 252  # Annualized return\n",
    "    portfolio_volatility = np.sqrt(np.dot(weights.T, np.dot(returns.cov() * 252, weights)))  # Annualized volatility\n",
    "    return (portfolio_return - risk_free_rate) / portfolio_volatility\n"
   ]
  },
  {
   "cell_type": "code",
   "execution_count": 15,
   "metadata": {},
   "outputs": [
    {
     "name": "stdout",
     "output_type": "stream",
     "text": [
      "Optimal Weights: [0.63909511 0.08875517 0.27214972]\n",
      "Maximized Sharpe Ratio: 2.448694541717261\n"
     ]
    }
   ],
   "source": [
    "from scipy.optimize import minimize\n",
    "# The minimize function is a general-purpose optimization function. We use it to find the weights that maximize the Sharpe ratio by minimizing the negative Sharpe ratio (more on this below).\n",
    "\n",
    "# Constraints: weights must sum to 1\n",
    "constraints = ({'type': 'eq', 'fun': lambda x: np.sum(x) - 1})\n",
    "\n",
    "# Bounds: each weight must be between 0 and 1\n",
    "# creates a tuple with (0,1) for the number of assets we have. \n",
    "# If you have a portfolio with three assets (tickers = [\"AAPL\", \"MSFT\", \"GOOGL\"]), then:\n",
    "# ((0, 1), (0, 1), (0, 1))\n",
    "bounds = tuple((0, 1) for _ in range(len(tickers)))\n",
    "\n",
    "# Initial guess (equal weights)\n",
    "# For example, if tickers has 3 assets, the result would be [0.333, 0.333, 0.333], representing an equal allocation to each asset.\n",
    "# The purpose of the initial guesses is that in optimization we need a starting point for the algthm to begin its search for an optimal solution\n",
    "initial_guess = np.array([1/len(tickers)] * len(tickers))\n",
    "\n",
    "# Optimization to maximize the Sharpe ratio\n",
    "\"\"\"\n",
    "minimize:\n",
    "\n",
    "minimize is a function from the scipy.optimize library that is used for optimization.\n",
    "It minimizes a given objective function by adjusting the input variables (in this case, asset weights) within specified constraints and bounds.\n",
    "lambda w: -sharpe_ratio(w, daily_returns):\n",
    "\n",
    "This is the objective function that minimize will try to minimize.\n",
    "lambda w: -sharpe_ratio(w, daily_returns) is a lambda function (an anonymous function) that takes w (the weights of assets) as input.\n",
    "sharpe_ratio(w, daily_returns) calculates the Sharpe ratio for a portfolio with weights w, using daily_returns as the data for asset returns.\n",
    "-sharpe_ratio(w, daily_returns): The negative sign is used because minimize can only minimize functions, but we actually want to maximize the Sharpe ratio. By minimizing the negative Sharpe ratio, we effectively maximize the Sharpe ratio itself.\n",
    "initial_guess:\n",
    "\n",
    "This is the starting point for the optimization algorithm.\n",
    "initial_guess is an array of initial weights (typically set to equal weights) that serves as the initial allocation for the portfolio.\n",
    "method='SLSQP':\n",
    "\n",
    "This specifies the optimization algorithm to use. 'SLSQP' stands for Sequential Least Squares Programming.\n",
    "SLSQP is well-suited for problems with constraints and bounds, making it a good choice for portfolio optimization where weights must sum to 1 and lie between 0 and 1.\n",
    "bounds=bounds:\n",
    "\n",
    "bounds define the permissible range for each weight. In this case, bounds are set so each weight lies between 0 and 1.\n",
    "This prevents short-selling (weights below 0) and over-leveraging (weights above 1), enforcing that each asset’s allocation is between 0% and 100% of the total portfolio.\n",
    "constraints=constraints:\n",
    "\n",
    "constraints ensure that the solution meets specific requirements.\n",
    "In this case, constraints enforces that the sum of all weights equals 1, ensuring that the portfolio is fully invested (100% of the capital is allocated across the assets).\n",
    "\"\"\"\n",
    "result = minimize(lambda w: -sharpe_ratio(w, daily_returns), initial_guess, \n",
    "                  method='SLSQP', bounds=bounds, constraints=constraints)\n",
    "\n",
    "optimal_weights = result.x\n",
    "print(\"Optimal Weights:\", optimal_weights)\n",
    "print(\"Maximized Sharpe Ratio:\", -result.fun)\n"
   ]
  }
 ],
 "metadata": {
  "kernelspec": {
   "display_name": "base",
   "language": "python",
   "name": "python3"
  },
  "language_info": {
   "codemirror_mode": {
    "name": "ipython",
    "version": 3
   },
   "file_extension": ".py",
   "mimetype": "text/x-python",
   "name": "python",
   "nbconvert_exporter": "python",
   "pygments_lexer": "ipython3",
   "version": "3.10.9"
  },
  "orig_nbformat": 4
 },
 "nbformat": 4,
 "nbformat_minor": 2
}
