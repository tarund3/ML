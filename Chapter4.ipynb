{
 "cells": [
  {
   "cell_type": "code",
   "execution_count": 5,
   "metadata": {},
   "outputs": [
    {
     "name": "stderr",
     "output_type": "stream",
     "text": [
      "[*********************100%***********************]  1 of 1 completed"
     ]
    },
    {
     "name": "stdout",
     "output_type": "stream",
     "text": [
      "Price                           Close     Volume\n",
      "Ticker                           AAPL       AAPL\n",
      "Date                                            \n",
      "2023-01-03 00:00:00+00:00  125.070000  112117500\n",
      "2023-01-04 00:00:00+00:00  126.360001   89113600\n",
      "2023-01-05 00:00:00+00:00  125.019997   80962700\n",
      "2023-01-06 00:00:00+00:00  129.619995   87754700\n",
      "2023-01-09 00:00:00+00:00  130.149994   70790800\n"
     ]
    },
    {
     "name": "stderr",
     "output_type": "stream",
     "text": [
      "\n"
     ]
    }
   ],
   "source": [
    "import yfinance as yf\n",
    "import pandas as pd\n",
    "\n",
    "ticker = \"AAPL\"\n",
    "data = yf.download(ticker, start = \"2023-01-01\", end = \"2023-12-31\")\n",
    "\n",
    "historical_data = data[['Close', 'Volume']]\n",
    "\n",
    "print(historical_data.head())"
   ]
  },
  {
   "cell_type": "code",
   "execution_count": 7,
   "metadata": {},
   "outputs": [
    {
     "name": "stdout",
     "output_type": "stream",
     "text": [
      "Date\n",
      "2023-01-03 00:00:00+00:00    1\n",
      "2023-01-04 00:00:00+00:00    0\n",
      "2023-01-05 00:00:00+00:00    0\n",
      "2023-01-06 00:00:00+00:00    0\n",
      "2023-01-09 00:00:00+00:00    0\n",
      "                            ..\n",
      "2023-12-22 00:00:00+00:00    2\n",
      "2023-12-26 00:00:00+00:00    2\n",
      "2023-12-27 00:00:00+00:00    2\n",
      "2023-12-28 00:00:00+00:00    2\n",
      "2023-12-29 00:00:00+00:00    2\n",
      "Name: Volume_Cluster, Length: 250, dtype: int32\n"
     ]
    },
    {
     "name": "stderr",
     "output_type": "stream",
     "text": [
      "/Users/tarundamodaran/anaconda3/lib/python3.10/site-packages/sklearn/cluster/_kmeans.py:870: FutureWarning: The default value of `n_init` will change from 10 to 'auto' in 1.4. Set the value of `n_init` explicitly to suppress the warning\n",
      "  warnings.warn(\n",
      "/var/folders/63/xq0rcby97vjbyhbl3pvr62p80000gn/T/ipykernel_8812/61788531.py:16: SettingWithCopyWarning: \n",
      "A value is trying to be set on a copy of a slice from a DataFrame.\n",
      "Try using .loc[row_indexer,col_indexer] = value instead\n",
      "\n",
      "See the caveats in the documentation: https://pandas.pydata.org/pandas-docs/stable/user_guide/indexing.html#returning-a-view-versus-a-copy\n",
      "  historical_data['Volume_Cluster'] = kmeans.fit_predict(historical_data[['Volume']])\n"
     ]
    }
   ],
   "source": [
    "from sklearn.model_selection import train_test_split\n",
    "from sklearn.linear_model import LinearRegression\n",
    "from sklearn.cluster import KMeans\n",
    "\n",
    "X = historical_data[['Volume']]\n",
    "y = historical_data['Close']\n",
    "\n",
    "# Random State can be any integer\n",
    "X_train, X_test, y_train, y_test = train_test_split(X, y, test_size=0.2, random_state=42)\n",
    "\n",
    "model = LinearRegression()\n",
    "model.fit(X_train, y_train)\n",
    "\n",
    "# choosing the number of clusters(k)\n",
    "# group data into clusters based on characteristics\n",
    "kmeans = KMeans(n_clusters=3)\n",
    "historical_data['Volume_Cluster'] = kmeans.fit_predict(historical_data[['Volume']])\n",
    "\n"
   ]
  },
  {
   "cell_type": "code",
   "execution_count": 9,
   "metadata": {},
   "outputs": [
    {
     "name": "stderr",
     "output_type": "stream",
     "text": [
      "/var/folders/63/xq0rcby97vjbyhbl3pvr62p80000gn/T/ipykernel_8812/3411280041.py:2: SettingWithCopyWarning: \n",
      "A value is trying to be set on a copy of a slice from a DataFrame\n",
      "\n",
      "See the caveats in the documentation: https://pandas.pydata.org/pandas-docs/stable/user_guide/indexing.html#returning-a-view-versus-a-copy\n",
      "  historical_data.fillna(method='ffill', inplace=True)\n",
      "/var/folders/63/xq0rcby97vjbyhbl3pvr62p80000gn/T/ipykernel_8812/3411280041.py:5: SettingWithCopyWarning: \n",
      "A value is trying to be set on a copy of a slice from a DataFrame.\n",
      "Try using .loc[row_indexer,col_indexer] = value instead\n",
      "\n",
      "See the caveats in the documentation: https://pandas.pydata.org/pandas-docs/stable/user_guide/indexing.html#returning-a-view-versus-a-copy\n",
      "  historical_data['SMA_20'] = historical_data['Close'].rolling(window=20).mean()\n",
      "/var/folders/63/xq0rcby97vjbyhbl3pvr62p80000gn/T/ipykernel_8812/3411280041.py:6: SettingWithCopyWarning: \n",
      "A value is trying to be set on a copy of a slice from a DataFrame.\n",
      "Try using .loc[row_indexer,col_indexer] = value instead\n",
      "\n",
      "See the caveats in the documentation: https://pandas.pydata.org/pandas-docs/stable/user_guide/indexing.html#returning-a-view-versus-a-copy\n",
      "  historical_data['SMA_50'] = historical_data['Close'].rolling(window=50).mean()\n"
     ]
    }
   ],
   "source": [
    "# Forward-fill missing values\n",
    "historical_data.fillna(method='ffill', inplace=True)\n",
    "\n",
    "# Moving averages\n",
    "historical_data['SMA_20'] = historical_data['Close'].rolling(window=20).mean()\n",
    "historical_data['SMA_50'] = historical_data['Close'].rolling(window=50).mean()\n",
    "\n",
    "# Volatility (standard deviation of daily returns)\n",
    "historical_data['Volatility'] = historical_data['Close'].pct_change().rolling(window=20).std()\n",
    "\n",
    "# Technical indicator (e.g., RSI - Relative Strength Index)\n",
    "\"\"\"\n",
    "The Relative Strength Index (RSI) is a popular momentum indicator used in technical analysis to measure the speed and change of price movements. \n",
    "It helps identify overbought or oversold conditions in a financial asset, typically stocks, and is widely used by traders to gauge the likelihood of a trend reversal.\n",
    "\n",
    "Overbought Condition (Above 70): When RSI is above 70, the asset is generally considered overbought and may be due for a correction or price pullback.\n",
    "Oversold Condition (Below 30): When RSI is below 30, the asset is generally considered oversold and may be due for a price rebound or reversal.\n",
    "Neutral Zone (Between 30 and 70): In this range, the asset is neither overbought nor oversold.\n",
    "\"\"\"\n",
    "def calculate_rsi(data, window=14):\n",
    "    delta = data.diff(1)\n",
    "    gain = (delta.where(delta > 0, 0)).rolling(window=window).mean()\n",
    "    loss = (-delta.where(delta < 0, 0)).rolling(window=window).mean()\n",
    "    rs = gain / loss\n",
    "    return 100 - (100 / (1 + rs))\n",
    "\n",
    "historical_data['RSI'] = calculate_rsi(historical_data['Close'])\n"
   ]
  },
  {
   "cell_type": "code",
   "execution_count": 10,
   "metadata": {},
   "outputs": [],
   "source": [
    "from sklearn.preprocessing import StandardScaler\n",
    "\n",
    "# Select features for scaling\n",
    "# scale data to have mean of 0\n",
    "features = historical_data[['Volume', 'SMA_20', 'SMA_50', 'Volatility', 'RSI']].dropna()\n",
    "scaler = StandardScaler()\n",
    "scaled_features = scaler.fit_transform(features)\n"
   ]
  },
  {
   "cell_type": "code",
   "execution_count": 16,
   "metadata": {},
   "outputs": [
    {
     "name": "stdout",
     "output_type": "stream",
     "text": [
      "Mean Absolute Error: 15.105304996272421\n",
      "Mean Squared Error: 350.07972967938724\n"
     ]
    }
   ],
   "source": [
    "from sklearn.metrics import mean_absolute_error, mean_squared_error\n",
    "\n",
    "# Predict closing prices\n",
    "y_pred = model.predict(X_test)\n",
    "\n",
    "# Calculate MAE and MSE\n",
    "mae = mean_absolute_error(y_test, y_pred)\n",
    "mse = mean_squared_error(y_test, y_pred)\n",
    "\n",
    "print(\"Mean Absolute Error:\", mae)\n",
    "print(\"Mean Squared Error:\", mse)\n"
   ]
  },
  {
   "cell_type": "code",
   "execution_count": 13,
   "metadata": {},
   "outputs": [
    {
     "name": "stderr",
     "output_type": "stream",
     "text": [
      "[*********************100%***********************]  3 of 3 completed"
     ]
    },
    {
     "name": "stdout",
     "output_type": "stream",
     "text": [
      "                           Portfolio_Return\n",
      "Date                                       \n",
      "2023-01-04 00:00:00+00:00         -0.015033\n",
      "2023-01-05 00:00:00+00:00         -0.020529\n",
      "2023-01-06 00:00:00+00:00          0.020601\n",
      "2023-01-09 00:00:00+00:00          0.007204\n",
      "2023-01-10 00:00:00+00:00          0.005539\n"
     ]
    },
    {
     "name": "stderr",
     "output_type": "stream",
     "text": [
      "\n"
     ]
    }
   ],
   "source": [
    "import yfinance as yf\n",
    "import pandas as pd\n",
    "import numpy as np\n",
    "\n",
    "# Step 1: Fetch daily closing prices for a set of stocks\n",
    "tickers = [\"AAPL\", \"MSFT\", \"GOOGL\"]  # Example tickers\n",
    "stock_data = yf.download(tickers, start=\"2023-01-01\", end=\"2023-12-31\")['Close']\n",
    "\n",
    "# Step 2: Calculate daily returns for each stock\n",
    "daily_returns = stock_data.pct_change().dropna()  # Calculate daily returns and drop NaN values\n",
    "\n",
    "# Step 3: Define portfolio weights (example: equally weighted portfolio)\n",
    "weights = np.array([1/3, 1/3, 1/3])\n",
    "\n",
    "# Step 4: Calculate weighted portfolio return\n",
    "# Multiply each stock's daily return by its weight, then sum to get the portfolio's daily return\n",
    "portfolio_returns = daily_returns.dot(weights)\n",
    "\n",
    "# Convert to a DataFrame\n",
    "portfolio_returns = pd.DataFrame(portfolio_returns, columns=[\"Portfolio_Return\"])\n",
    "\n",
    "# Display the first few rows of the portfolio returns DataFrame\n",
    "print(portfolio_returns.head())\n"
   ]
  },
  {
   "cell_type": "code",
   "execution_count": 14,
   "metadata": {},
   "outputs": [
    {
     "name": "stdout",
     "output_type": "stream",
     "text": [
      "Annualized Return: Portfolio_Return    0.482027\n",
      "dtype: float64\n",
      "Annualized Volatility: Portfolio_Return    0.208709\n",
      "dtype: float64\n",
      "Sharpe Ratio: Portfolio_Return    2.309567\n",
      "dtype: float64\n"
     ]
    }
   ],
   "source": [
    "# Assume `portfolio_returns` is a series of daily returns for a portfolio\n",
    "annualized_return = portfolio_returns.mean() * 252  # Annualize daily return\n",
    "annualized_volatility = portfolio_returns.std() * np.sqrt(252)  # Annualize volatility\n",
    "sharpe_ratio = annualized_return / annualized_volatility\n",
    "\n",
    "print(\"Annualized Return:\", annualized_return)\n",
    "print(\"Annualized Volatility:\", annualized_volatility)\n",
    "print(\"Sharpe Ratio:\", sharpe_ratio)\n"
   ]
  },
  {
   "cell_type": "code",
   "execution_count": 15,
   "metadata": {},
   "outputs": [
    {
     "name": "stderr",
     "output_type": "stream",
     "text": [
      "[*********************100%***********************]  5 of 5 completed\n",
      "/Users/tarundamodaran/anaconda3/lib/python3.10/site-packages/sklearn/cluster/_kmeans.py:870: FutureWarning: The default value of `n_init` will change from 10 to 'auto' in 1.4. Set the value of `n_init` explicitly to suppress the warning\n",
      "  warnings.warn(\n"
     ]
    },
    {
     "name": "stdout",
     "output_type": "stream",
     "text": [
      "Feature Data:\n",
      "         Mean Return  Volatility  Mean Volume\n",
      "Ticker                                      \n",
      "AAPL       0.001812    0.012566   172.549000\n",
      "AMZN       0.002511    0.020805   121.372800\n",
      "GOOGL      0.001990    0.019149   118.794720\n",
      "MSFT       0.001936    0.015832   313.951001\n",
      "TSLA       0.003893    0.033166   217.475240\n",
      "Clustered Feature Data:\n",
      "         Mean Return  Volatility  Mean Volume  Cluster\n",
      "Ticker                                               \n",
      "AAPL       0.001812    0.012566   172.549000        1\n",
      "AMZN       0.002511    0.020805   121.372800        2\n",
      "GOOGL      0.001990    0.019149   118.794720        2\n",
      "MSFT       0.001936    0.015832   313.951001        1\n",
      "TSLA       0.003893    0.033166   217.475240        0\n"
     ]
    },
    {
     "data": {
      "image/png": "[encoded data removed]",
      "text/plain": [
       "<Figure size 640x480 with 2 Axes>"
      ]
     },
     "metadata": {},
     "output_type": "display_data"
    }
   ],
   "source": [
    "import yfinance as yf\n",
    "import pandas as pd\n",
    "from sklearn.cluster import KMeans\n",
    "import matplotlib.pyplot as plt\n",
    "\n",
    "# Fetch data for multiple stocks\n",
    "tickers = [\"AAPL\", \"MSFT\", \"GOOGL\", \"AMZN\", \"TSLA\"]\n",
    "stock_data = yf.download(tickers, start=\"2023-01-01\", end=\"2023-12-31\")['Close']\n",
    "\n",
    "# Calculate daily returns\n",
    "daily_returns = stock_data.pct_change().dropna()\n",
    "\n",
    "# Calculate features for each stock\n",
    "feature_data = pd.DataFrame({\n",
    "    'Mean Return': daily_returns.mean(),\n",
    "    'Volatility': daily_returns.std(),\n",
    "    'Mean Volume': stock_data.mean()\n",
    "})\n",
    "\n",
    "print(\"Feature Data:\\n\", feature_data)\n",
    "\n",
    "# Apply K-Means clustering\n",
    "kmeans = KMeans(n_clusters=3, random_state=0)\n",
    "feature_data['Cluster'] = kmeans.fit_predict(feature_data[['Mean Return', 'Volatility']])\n",
    "\n",
    "print(\"Clustered Feature Data:\\n\", feature_data)\n",
    "\n",
    "# Visualize the clusters\n",
    "plt.scatter(feature_data['Mean Return'], feature_data['Volatility'], c=feature_data['Cluster'], cmap='viridis')\n",
    "plt.xlabel(\"Mean Return\")\n",
    "plt.ylabel(\"Volatility\")\n",
    "plt.title(\"Stock Clusters Based on Mean Return and Volatility\")\n",
    "plt.colorbar(label='Cluster')\n",
    "plt.show()\n"
   ]
  }
 ],
 "metadata": {
  "kernelspec": {
   "display_name": "base",
   "language": "python",
   "name": "python3"
  },
  "language_info": {
   "name": "python",
   "version": "3.10.9"
  },
  "orig_nbformat": 4
 },
 "nbformat": 4,
 "nbformat_minor": 2
}
